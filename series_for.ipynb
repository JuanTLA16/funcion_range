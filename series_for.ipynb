{
  "nbformat": 4,
  "nbformat_minor": 0,
  "metadata": {
    "colab": {
      "provenance": [],
      "authorship_tag": "ABX9TyO//2gc4J5Fl4pYoFSvgeRt",
      "include_colab_link": true
    },
    "kernelspec": {
      "name": "python3",
      "display_name": "Python 3"
    },
    "language_info": {
      "name": "python"
    }
  },
  "cells": [
    {
      "cell_type": "markdown",
      "metadata": {
        "id": "view-in-github",
        "colab_type": "text"
      },
      "source": [
        "<a href=\"https://colab.research.google.com/github/JuanTLA16/funcion_range/blob/main/series_for.ipynb\" target=\"_parent\"><img src=\"https://colab.research.google.com/assets/colab-badge.svg\" alt=\"Open In Colab\"/></a>"
      ]
    },
    {
      "cell_type": "markdown",
      "source": [],
      "metadata": {
        "id": "remEqX7OH_X7"
      }
    },
    {
      "cell_type": "markdown",
      "source": [
        "# Series usando for\n"
      ],
      "metadata": {
        "id": "Fqf1Hz58GD5z"
      }
    },
    {
      "cell_type": "code",
      "source": [
        "# Serie 1: 1, 2, 3, 4, 5, 6, 7, 8, 9, 10\n",
        "\n",
        "print(\"------------------------------------\")\n",
        "print(\"---------------SERIE 1--------------\")\n",
        "print(\"------------------------------------\")\n",
        "\n",
        "\n",
        "S = \"Serie: {\"\n",
        "for i in range(1,11):\n",
        "  S = S + str(i) + \", \"\n",
        "S = S + \"}\"\n",
        "print(S)"
      ],
      "metadata": {
        "id": "fL-lmIVjGGhb"
      },
      "execution_count": null,
      "outputs": []
    },
    {
      "cell_type": "code",
      "source": [
        "# Serie 2: 1, 4, 9, 16, 25, 36, 49, 64, 81, .....\n",
        "\n",
        "print(\"------------------------------------\")\n",
        "print(\"---------------SERIE 2--------------\")\n",
        "print(\"------------------------------------\")\n",
        "\n",
        "S = \"Serie: {\"\n",
        "for i in range(1,11):\n",
        "  if i != 10:\n",
        "    S = S + str(i**2) + \", \"\n",
        "  else:\n",
        "    S = S + str(i**2)\n",
        "S = S + \"}\"\n",
        "print(S)"
      ],
      "metadata": {
        "colab": {
          "base_uri": "https://localhost:8080/"
        },
        "id": "d6N9n_iiI4s6",
        "outputId": "ab90f332-a3f6-44f7-91ef-7c7f5179015e"
      },
      "execution_count": 11,
      "outputs": [
        {
          "output_type": "stream",
          "name": "stdout",
          "text": [
            "------------------------------------\n",
            "---------------SERIE 2--------------\n",
            "------------------------------------\n",
            "Serie: {1, 4, 9, 16, 25, 36, 49, 64, 81, 100}\n"
          ]
        }
      ]
    }
  ]
}