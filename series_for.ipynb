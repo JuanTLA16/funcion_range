{
  "nbformat": 4,
  "nbformat_minor": 0,
  "metadata": {
    "colab": {
      "provenance": [],
      "authorship_tag": "ABX9TyPwGQ4eWY7y5t8rwpHYWziQ",
      "include_colab_link": true
    },
    "kernelspec": {
      "name": "python3",
      "display_name": "Python 3"
    },
    "language_info": {
      "name": "python"
    }
  },
  "cells": [
    {
      "cell_type": "markdown",
      "metadata": {
        "id": "view-in-github",
        "colab_type": "text"
      },
      "source": [
        "<a href=\"https://colab.research.google.com/github/JuanTLA16/funcion_range/blob/main/series_for.ipynb\" target=\"_parent\"><img src=\"https://colab.research.google.com/assets/colab-badge.svg\" alt=\"Open In Colab\"/></a>"
      ]
    },
    {
      "cell_type": "markdown",
      "source": [
        "# Series usando for\n"
      ],
      "metadata": {
        "id": "Fqf1Hz58GD5z"
      }
    },
    {
      "cell_type": "code",
      "source": [
        "# Serie 1: 1, 2, 3, 4, 5, 6, 7, 8, 9, 10\n",
        "\n",
        "print(\"------------------------------------\")\n",
        "print(\"---------------SERIE 1--------------\")\n",
        "print(\"------------------------------------\")"
      ],
      "metadata": {
        "id": "fL-lmIVjGGhb"
      },
      "execution_count": null,
      "outputs": []
    }
  ]
}