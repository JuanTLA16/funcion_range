{
  "nbformat": 4,
  "nbformat_minor": 0,
  "metadata": {
    "colab": {
      "provenance": [],
      "authorship_tag": "ABX9TyPINs51eLPAM3MTlCs7sHH9",
      "include_colab_link": true
    },
    "kernelspec": {
      "name": "python3",
      "display_name": "Python 3"
    },
    "language_info": {
      "name": "python"
    }
  },
  "cells": [
    {
      "cell_type": "markdown",
      "metadata": {
        "id": "view-in-github",
        "colab_type": "text"
      },
      "source": [
        "<a href=\"https://colab.research.google.com/github/JuanTLA16/funcion_range/blob/main/series_for.ipynb\" target=\"_parent\"><img src=\"https://colab.research.google.com/assets/colab-badge.svg\" alt=\"Open In Colab\"/></a>"
      ]
    },
    {
      "cell_type": "markdown",
      "source": [],
      "metadata": {
        "id": "remEqX7OH_X7"
      }
    },
    {
      "cell_type": "markdown",
      "source": [
        "# Series usando for\n"
      ],
      "metadata": {
        "id": "Fqf1Hz58GD5z"
      }
    },
    {
      "cell_type": "code",
      "source": [
        "# Serie 1: 1, 2, 3, 4, 5, 6, 7, 8, 9, 10\n",
        "\n",
        "print(\"------------------------------------\")\n",
        "print(\"---------------SERIE 1--------------\")\n",
        "print(\"------------------------------------\")\n",
        "\n",
        "\n",
        "S = \"Serie: {\"\n",
        "for i in range(1,11):\n",
        "  S = S + str(i) + \", \"\n",
        "S = S + \"}\"\n",
        "print(S)"
      ],
      "metadata": {
        "id": "fL-lmIVjGGhb"
      },
      "execution_count": null,
      "outputs": []
    },
    {
      "cell_type": "code",
      "source": [
        "# Serie 2: 1, 4, 9, 16, 25, 36, 49, 64, 81, .....\n",
        "\n",
        "print(\"------------------------------------\")\n",
        "print(\"---------------SERIE 2--------------\")\n",
        "print(\"------------------------------------\")\n",
        "\n",
        "S = \"Serie: {\"\n",
        "for i in range(1,11):\n",
        "  if i != 10:\n",
        "    S = S + str(i**2) + \", \"\n",
        "  else:\n",
        "    S = S + str(i**2)\n",
        "S = S + \"}\"\n",
        "print(S)"
      ],
      "metadata": {
        "id": "d6N9n_iiI4s6"
      },
      "execution_count": null,
      "outputs": []
    },
    {
      "cell_type": "code",
      "source": [
        "# Serie 3: 2, 4, 8, 16, 32, 64, .....\n",
        "\n",
        "print(\"------------------------------------\")\n",
        "print(\"---------------SERIE 3--------------\")\n",
        "print(\"------------------------------------\")\n",
        "\n",
        "S = \"Serie: {\"\n",
        "for i in range(1,11):\n",
        "  if i != 10:\n",
        "    S = S + str(2**i) + \", \"\n",
        "  else:\n",
        "    S = S + str(2**i)\n",
        "S = S + \"}\"\n",
        "print(S)"
      ],
      "metadata": {
        "colab": {
          "base_uri": "https://localhost:8080/"
        },
        "id": "2qJCXd9UNITB",
        "outputId": "4f0ae9ea-1ea3-4ff4-805f-0c724afbc5ce"
      },
      "execution_count": 17,
      "outputs": [
        {
          "output_type": "stream",
          "name": "stdout",
          "text": [
            "------------------------------------\n",
            "---------------SERIE 2--------------\n",
            "------------------------------------\n",
            "Serie: {2, 4, 8, 16, 32, 64, 128, 256, 512, 1024}\n"
          ]
        }
      ]
    },
    {
      "cell_type": "code",
      "source": [
        "# Serie 4: 2, 6, 12, 20, 30, 42, 56 .....\n",
        "\n",
        "print(\"------------------------------------\")\n",
        "print(\"---------------SERIE 4--------------\")\n",
        "print(\"------------------------------------\")\n",
        "\n",
        "S = \"Serie: {\"\n",
        "for i in range(1,11):\n",
        "  if i != 10:\n",
        "    S = S + str(i**2+i) + \", \"\n",
        "  else:\n",
        "    S = S + str(i**2+i)\n",
        "S = S + \"}\"\n",
        "print(S)"
      ],
      "metadata": {
        "colab": {
          "base_uri": "https://localhost:8080/"
        },
        "id": "fnd_QXHDPpD4",
        "outputId": "a8906f98-af62-455b-c27f-23d7fde42014"
      },
      "execution_count": 22,
      "outputs": [
        {
          "output_type": "stream",
          "name": "stdout",
          "text": [
            "------------------------------------\n",
            "---------------SERIE 4--------------\n",
            "------------------------------------\n",
            "Serie: {2, 6, 12, 20, 30, 42, 56, 72, 90, 110}\n"
          ]
        }
      ]
    }
  ]
}